{
 "cells": [
  {
   "cell_type": "markdown",
   "metadata": {},
   "source": [
    "# Practical: Materials Project\n",
    "```{admonition} Python\n",
    ":class: tip\n",
    "For this practical, we need to do some coding in Python. If you are not familiar with Python, you should do the \n",
    "[Introductory Videos on Python](https://drive.google.com/drive/folders/1Q3HjLFGMUTwv9htJXONZRMGUosSv7Odi?usp=sharing) provided by [Dr. Sasani Jayawardhana](https://cde.nus.edu.sg/mse/staff/sasani-jayawardhana/).\n",
    "\n",
    "Particularly, we will use lots of libraries in Python. If you are not familiar with Python libraries, you should do work harder after go through the introductory videos and try to understand as much as possible.\n",
    "```\n",
    "In this practical, we will use the Materials Project API to access information about materials. The Materials Project is a database of materials properties that is maintained by the Lawrence Berkeley National Laboratory. The database contains information about the properties of a large number of materials, including their crystal structures, band structures, and thermodynamic properties.\n",
    "\n",
    "## Register for a Materials Project API Key\n",
    "To access the Materials Project API, you will need to register for an API key. You can register an account of Materials Project by visiting the following website:\n",
    "https://profile.materialsproject.org/\n",
    "\n",
    "Then you can find your `API key` in the dashboard page. You should set your `MP_API_KEY` in the following cell."
   ]
  },
  {
   "cell_type": "code",
   "execution_count": 3,
   "metadata": {},
   "outputs": [],
   "source": [
    "MP_API_KEY = \"VDP9jAdOmRYbRuUjZmRcFuVL1ngkKhcv\" # check https://next-gen.materialsproject.org/dashboard for your API key\n"
   ]
  },
  {
   "cell_type": "markdown",
   "metadata": {},
   "source": [
    "```{admonition} Materials Project API Key\n",
    ":class: tip\n",
    "You should keep your API key secret and not share it with others. If you suspect that your API key has been compromised, you can regenerate a new API key in the dashboard page.\n",
    "\n",
    "You can find more information about the Materials Project API at the following website:\n",
    "https://next-gen.materialsproject.org/api\n",
    "```"
   ]
  },
  {
   "cell_type": "markdown",
   "metadata": {},
   "source": [
    "## Install the `mp_api` Package\n",
    "We need to install `mp_api` package to access the Materials Project API. You can install the package using the following command:"
   ]
  },
  {
   "cell_type": "code",
   "execution_count": 1,
   "metadata": {},
   "outputs": [
    {
     "name": "stdout",
     "output_type": "stream",
     "text": [
      "Requirement already satisfied: mp_api in c:\\users\\86155\\anaconda3\\envs\\mi\\lib\\site-packages (0.45.1)\n",
      "Requirement already satisfied: setuptools in c:\\users\\86155\\anaconda3\\envs\\mi\\lib\\site-packages (from mp_api) (75.1.0)\n",
      "Requirement already satisfied: msgpack in c:\\users\\86155\\anaconda3\\envs\\mi\\lib\\site-packages (from mp_api) (1.1.0)\n",
      "Requirement already satisfied: maggma>=0.57.1 in c:\\users\\86155\\anaconda3\\envs\\mi\\lib\\site-packages (from mp_api) (0.71.2)\n",
      "Requirement already satisfied: pymatgen!=2024.2.20,>=2022.3.7 in c:\\users\\86155\\anaconda3\\envs\\mi\\lib\\site-packages (from mp_api) (2024.10.3)\n",
      "Requirement already satisfied: typing-extensions>=3.7.4.1 in c:\\users\\86155\\anaconda3\\envs\\mi\\lib\\site-packages (from mp_api) (4.12.2)\n",
      "Requirement already satisfied: requests>=2.23.0 in c:\\users\\86155\\anaconda3\\envs\\mi\\lib\\site-packages (from mp_api) (2.32.3)\n",
      "Requirement already satisfied: monty>=2024.12.10 in c:\\users\\86155\\anaconda3\\envs\\mi\\lib\\site-packages (from mp_api) (2025.1.9)\n",
      "Requirement already satisfied: emmet-core>=0.84.3rc6 in c:\\users\\86155\\anaconda3\\envs\\mi\\lib\\site-packages (from mp_api) (0.84.6rc3)\n",
      "Requirement already satisfied: smart_open in c:\\users\\86155\\anaconda3\\envs\\mi\\lib\\site-packages (from mp_api) (7.1.0)\n",
      "Requirement already satisfied: numpy<2 in c:\\users\\86155\\anaconda3\\envs\\mi\\lib\\site-packages (from emmet-core>=0.84.3rc6->mp_api) (1.26.4)\n",
      "Requirement already satisfied: pydantic>=2.0 in c:\\users\\86155\\anaconda3\\envs\\mi\\lib\\site-packages (from emmet-core>=0.84.3rc6->mp_api) (2.10.6)\n",
      "Requirement already satisfied: pydantic-settings>=2.0 in c:\\users\\86155\\anaconda3\\envs\\mi\\lib\\site-packages (from emmet-core>=0.84.3rc6->mp_api) (2.7.1)\n",
      "Requirement already satisfied: pybtex~=0.24 in c:\\users\\86155\\anaconda3\\envs\\mi\\lib\\site-packages (from emmet-core>=0.84.3rc6->mp_api) (0.24.0)\n",
      "Requirement already satisfied: ruamel.yaml>=0.17 in c:\\users\\86155\\anaconda3\\envs\\mi\\lib\\site-packages (from maggma>=0.57.1->mp_api) (0.18.10)\n",
      "Requirement already satisfied: pymongo>=4.2.0 in c:\\users\\86155\\anaconda3\\envs\\mi\\lib\\site-packages (from maggma>=0.57.1->mp_api) (4.11)\n",
      "Requirement already satisfied: mongomock>=3.10.0 in c:\\users\\86155\\anaconda3\\envs\\mi\\lib\\site-packages (from maggma>=0.57.1->mp_api) (4.3.0)\n",
      "Requirement already satisfied: pydash>=4.1.0 in c:\\users\\86155\\anaconda3\\envs\\mi\\lib\\site-packages (from maggma>=0.57.1->mp_api) (8.0.5)\n",
      "Requirement already satisfied: jsonschema>=3.1.1 in c:\\users\\86155\\anaconda3\\envs\\mi\\lib\\site-packages (from maggma>=0.57.1->mp_api) (4.23.0)\n",
      "Requirement already satisfied: tqdm>=4.19.6 in c:\\users\\86155\\anaconda3\\envs\\mi\\lib\\site-packages (from maggma>=0.57.1->mp_api) (4.67.1)\n",
      "Requirement already satisfied: pandas>=2.2 in c:\\users\\86155\\anaconda3\\envs\\mi\\lib\\site-packages (from maggma>=0.57.1->mp_api) (2.2.3)\n",
      "Requirement already satisfied: jsonlines>=4.0.0 in c:\\users\\86155\\anaconda3\\envs\\mi\\lib\\site-packages (from maggma>=0.57.1->mp_api) (4.0.0)\n",
      "Requirement already satisfied: aioitertools>=0.5.1 in c:\\users\\86155\\anaconda3\\envs\\mi\\lib\\site-packages (from maggma>=0.57.1->mp_api) (0.12.0)\n",
      "Requirement already satisfied: pyzmq>=25.1.1 in c:\\users\\86155\\anaconda3\\envs\\mi\\lib\\site-packages (from maggma>=0.57.1->mp_api) (26.2.0)\n",
      "Requirement already satisfied: dnspython>=1.16.0 in c:\\users\\86155\\anaconda3\\envs\\mi\\lib\\site-packages (from maggma>=0.57.1->mp_api) (2.7.0)\n",
      "Requirement already satisfied: sshtunnel>=0.1.5 in c:\\users\\86155\\anaconda3\\envs\\mi\\lib\\site-packages (from maggma>=0.57.1->mp_api) (0.4.0)\n",
      "Requirement already satisfied: orjson>=3.9.0 in c:\\users\\86155\\anaconda3\\envs\\mi\\lib\\site-packages (from maggma>=0.57.1->mp_api) (3.10.15)\n",
      "Requirement already satisfied: boto3>=1.20.41 in c:\\users\\86155\\anaconda3\\envs\\mi\\lib\\site-packages (from maggma>=0.57.1->mp_api) (1.36.13)\n",
      "Requirement already satisfied: python-dateutil>=2.8.2 in c:\\users\\86155\\anaconda3\\envs\\mi\\lib\\site-packages (from maggma>=0.57.1->mp_api) (2.9.0.post0)\n",
      "Requirement already satisfied: joblib>=1 in c:\\users\\86155\\anaconda3\\envs\\mi\\lib\\site-packages (from pymatgen!=2024.2.20,>=2022.3.7->mp_api) (1.4.2)\n",
      "Requirement already satisfied: matplotlib>=3.8 in c:\\users\\86155\\anaconda3\\envs\\mi\\lib\\site-packages (from pymatgen!=2024.2.20,>=2022.3.7->mp_api) (3.10.0)\n",
      "Requirement already satisfied: networkx>=2.2 in c:\\users\\86155\\anaconda3\\envs\\mi\\lib\\site-packages (from pymatgen!=2024.2.20,>=2022.3.7->mp_api) (3.4.2)\n",
      "Requirement already satisfied: palettable>=3.3.3 in c:\\users\\86155\\anaconda3\\envs\\mi\\lib\\site-packages (from pymatgen!=2024.2.20,>=2022.3.7->mp_api) (3.3.3)\n",
      "Requirement already satisfied: plotly>=4.5.0 in c:\\users\\86155\\anaconda3\\envs\\mi\\lib\\site-packages (from pymatgen!=2024.2.20,>=2022.3.7->mp_api) (5.24.1)\n",
      "Requirement already satisfied: scipy>=1.13.0 in c:\\users\\86155\\anaconda3\\envs\\mi\\lib\\site-packages (from pymatgen!=2024.2.20,>=2022.3.7->mp_api) (1.15.1)\n",
      "Requirement already satisfied: spglib>=2.5.0 in c:\\users\\86155\\anaconda3\\envs\\mi\\lib\\site-packages (from pymatgen!=2024.2.20,>=2022.3.7->mp_api) (2.5.0)\n",
      "Requirement already satisfied: sympy>=1.2 in c:\\users\\86155\\anaconda3\\envs\\mi\\lib\\site-packages (from pymatgen!=2024.2.20,>=2022.3.7->mp_api) (1.13.3)\n",
      "Requirement already satisfied: tabulate>=0.9 in c:\\users\\86155\\anaconda3\\envs\\mi\\lib\\site-packages (from pymatgen!=2024.2.20,>=2022.3.7->mp_api) (0.9.0)\n",
      "Requirement already satisfied: uncertainties>=3.1.4 in c:\\users\\86155\\anaconda3\\envs\\mi\\lib\\site-packages (from pymatgen!=2024.2.20,>=2022.3.7->mp_api) (3.2.2)\n",
      "Requirement already satisfied: charset-normalizer<4,>=2 in c:\\users\\86155\\anaconda3\\envs\\mi\\lib\\site-packages (from requests>=2.23.0->mp_api) (3.4.1)\n",
      "Requirement already satisfied: idna<4,>=2.5 in c:\\users\\86155\\anaconda3\\envs\\mi\\lib\\site-packages (from requests>=2.23.0->mp_api) (3.10)\n",
      "Requirement already satisfied: urllib3<3,>=1.21.1 in c:\\users\\86155\\anaconda3\\envs\\mi\\lib\\site-packages (from requests>=2.23.0->mp_api) (2.3.0)\n",
      "Requirement already satisfied: certifi>=2017.4.17 in c:\\users\\86155\\anaconda3\\envs\\mi\\lib\\site-packages (from requests>=2.23.0->mp_api) (2024.12.14)\n",
      "Requirement already satisfied: wrapt in c:\\users\\86155\\anaconda3\\envs\\mi\\lib\\site-packages (from smart_open->mp_api) (1.17.2)\n",
      "Requirement already satisfied: botocore<1.37.0,>=1.36.13 in c:\\users\\86155\\anaconda3\\envs\\mi\\lib\\site-packages (from boto3>=1.20.41->maggma>=0.57.1->mp_api) (1.36.13)\n",
      "Requirement already satisfied: jmespath<2.0.0,>=0.7.1 in c:\\users\\86155\\anaconda3\\envs\\mi\\lib\\site-packages (from boto3>=1.20.41->maggma>=0.57.1->mp_api) (1.0.1)\n",
      "Requirement already satisfied: s3transfer<0.12.0,>=0.11.0 in c:\\users\\86155\\anaconda3\\envs\\mi\\lib\\site-packages (from boto3>=1.20.41->maggma>=0.57.1->mp_api) (0.11.2)\n",
      "Requirement already satisfied: attrs>=19.2.0 in c:\\users\\86155\\anaconda3\\envs\\mi\\lib\\site-packages (from jsonlines>=4.0.0->maggma>=0.57.1->mp_api) (24.3.0)\n",
      "Requirement already satisfied: jsonschema-specifications>=2023.03.6 in c:\\users\\86155\\anaconda3\\envs\\mi\\lib\\site-packages (from jsonschema>=3.1.1->maggma>=0.57.1->mp_api) (2024.10.1)\n",
      "Requirement already satisfied: referencing>=0.28.4 in c:\\users\\86155\\anaconda3\\envs\\mi\\lib\\site-packages (from jsonschema>=3.1.1->maggma>=0.57.1->mp_api) (0.36.1)\n",
      "Requirement already satisfied: rpds-py>=0.7.1 in c:\\users\\86155\\anaconda3\\envs\\mi\\lib\\site-packages (from jsonschema>=3.1.1->maggma>=0.57.1->mp_api) (0.22.3)\n",
      "Requirement already satisfied: contourpy>=1.0.1 in c:\\users\\86155\\anaconda3\\envs\\mi\\lib\\site-packages (from matplotlib>=3.8->pymatgen!=2024.2.20,>=2022.3.7->mp_api) (1.3.1)\n",
      "Requirement already satisfied: cycler>=0.10 in c:\\users\\86155\\anaconda3\\envs\\mi\\lib\\site-packages (from matplotlib>=3.8->pymatgen!=2024.2.20,>=2022.3.7->mp_api) (0.12.1)\n",
      "Requirement already satisfied: fonttools>=4.22.0 in c:\\users\\86155\\anaconda3\\envs\\mi\\lib\\site-packages (from matplotlib>=3.8->pymatgen!=2024.2.20,>=2022.3.7->mp_api) (4.55.3)\n",
      "Requirement already satisfied: kiwisolver>=1.3.1 in c:\\users\\86155\\anaconda3\\envs\\mi\\lib\\site-packages (from matplotlib>=3.8->pymatgen!=2024.2.20,>=2022.3.7->mp_api) (1.4.8)\n",
      "Requirement already satisfied: packaging>=20.0 in c:\\users\\86155\\anaconda3\\envs\\mi\\lib\\site-packages (from matplotlib>=3.8->pymatgen!=2024.2.20,>=2022.3.7->mp_api) (24.2)\n",
      "Requirement already satisfied: pillow>=8 in c:\\users\\86155\\anaconda3\\envs\\mi\\lib\\site-packages (from matplotlib>=3.8->pymatgen!=2024.2.20,>=2022.3.7->mp_api) (11.1.0)\n",
      "Requirement already satisfied: pyparsing>=2.3.1 in c:\\users\\86155\\anaconda3\\envs\\mi\\lib\\site-packages (from matplotlib>=3.8->pymatgen!=2024.2.20,>=2022.3.7->mp_api) (3.2.1)\n",
      "Requirement already satisfied: pytz in c:\\users\\86155\\anaconda3\\envs\\mi\\lib\\site-packages (from mongomock>=3.10.0->maggma>=0.57.1->mp_api) (2024.2)\n",
      "Requirement already satisfied: sentinels in c:\\users\\86155\\anaconda3\\envs\\mi\\lib\\site-packages (from mongomock>=3.10.0->maggma>=0.57.1->mp_api) (1.0.0)\n",
      "Requirement already satisfied: tzdata>=2022.7 in c:\\users\\86155\\anaconda3\\envs\\mi\\lib\\site-packages (from pandas>=2.2->maggma>=0.57.1->mp_api) (2025.1)\n",
      "Requirement already satisfied: tenacity>=6.2.0 in c:\\users\\86155\\anaconda3\\envs\\mi\\lib\\site-packages (from plotly>=4.5.0->pymatgen!=2024.2.20,>=2022.3.7->mp_api) (9.0.0)\n",
      "Requirement already satisfied: PyYAML>=3.01 in c:\\users\\86155\\anaconda3\\envs\\mi\\lib\\site-packages (from pybtex~=0.24->emmet-core>=0.84.3rc6->mp_api) (6.0.2)\n",
      "Requirement already satisfied: latexcodec>=1.0.4 in c:\\users\\86155\\anaconda3\\envs\\mi\\lib\\site-packages (from pybtex~=0.24->emmet-core>=0.84.3rc6->mp_api) (3.0.0)\n",
      "Requirement already satisfied: six in c:\\users\\86155\\anaconda3\\envs\\mi\\lib\\site-packages (from pybtex~=0.24->emmet-core>=0.84.3rc6->mp_api) (1.17.0)\n",
      "Requirement already satisfied: annotated-types>=0.6.0 in c:\\users\\86155\\anaconda3\\envs\\mi\\lib\\site-packages (from pydantic>=2.0->emmet-core>=0.84.3rc6->mp_api) (0.7.0)\n",
      "Requirement already satisfied: pydantic-core==2.27.2 in c:\\users\\86155\\anaconda3\\envs\\mi\\lib\\site-packages (from pydantic>=2.0->emmet-core>=0.84.3rc6->mp_api) (2.27.2)\n",
      "Requirement already satisfied: python-dotenv>=0.21.0 in c:\\users\\86155\\anaconda3\\envs\\mi\\lib\\site-packages (from pydantic-settings>=2.0->emmet-core>=0.84.3rc6->mp_api) (1.0.1)\n",
      "Requirement already satisfied: paramiko>=2.7.2 in c:\\users\\86155\\anaconda3\\envs\\mi\\lib\\site-packages (from sshtunnel>=0.1.5->maggma>=0.57.1->mp_api) (3.5.1)\n",
      "Requirement already satisfied: mpmath<1.4,>=1.1.0 in c:\\users\\86155\\anaconda3\\envs\\mi\\lib\\site-packages (from sympy>=1.2->pymatgen!=2024.2.20,>=2022.3.7->mp_api) (1.3.0)\n",
      "Requirement already satisfied: colorama in c:\\users\\86155\\anaconda3\\envs\\mi\\lib\\site-packages (from tqdm>=4.19.6->maggma>=0.57.1->mp_api) (0.4.6)\n",
      "Requirement already satisfied: bcrypt>=3.2 in c:\\users\\86155\\anaconda3\\envs\\mi\\lib\\site-packages (from paramiko>=2.7.2->sshtunnel>=0.1.5->maggma>=0.57.1->mp_api) (4.2.1)\n",
      "Requirement already satisfied: cryptography>=3.3 in c:\\users\\86155\\anaconda3\\envs\\mi\\lib\\site-packages (from paramiko>=2.7.2->sshtunnel>=0.1.5->maggma>=0.57.1->mp_api) (44.0.0)\n",
      "Requirement already satisfied: pynacl>=1.5 in c:\\users\\86155\\anaconda3\\envs\\mi\\lib\\site-packages (from paramiko>=2.7.2->sshtunnel>=0.1.5->maggma>=0.57.1->mp_api) (1.5.0)\n",
      "Requirement already satisfied: cffi>=1.12 in c:\\users\\86155\\anaconda3\\envs\\mi\\lib\\site-packages (from cryptography>=3.3->paramiko>=2.7.2->sshtunnel>=0.1.5->maggma>=0.57.1->mp_api) (1.17.1)\n",
      "Requirement already satisfied: pycparser in c:\\users\\86155\\anaconda3\\envs\\mi\\lib\\site-packages (from cffi>=1.12->cryptography>=3.3->paramiko>=2.7.2->sshtunnel>=0.1.5->maggma>=0.57.1->mp_api) (2.22)\n"
     ]
    }
   ],
   "source": [
    "!pip install mp_api  \n"
   ]
  },
  {
   "cell_type": "markdown",
   "metadata": {},
   "source": [
    "## Querying Data from the Materials Project Database\n",
    "We can query data from the Materials Project database using the `mp_api` package. The `mp_api` package provides a Python interface to the Materials Project API, which allows you to query the database for information about materials. The package provides a number of functions for querying the database, including functions for querying materials by chemical formula, by material ID, and by crystal structure.\n",
    "\n",
    "To query data from the data base, we need to import the `MPRester` class from the `mp_api` package. We can then create an instance of the `MPRester` class, passing our API key as an argument to the constructor. We can then use the instance to query the database for information about materials.\n",
    "\n",
    "In the example below, we are searching data using the `material_ids`."
   ]
  },
  {
   "cell_type": "markdown",
   "metadata": {},
   "source": [
    "```{admonition} Python API\n",
    ":class: info\n",
    "Here we are using API. If you don't know what is class, instances, you can check the [Object-Oriented Programming](https://realpython.com/python3-object-oriented-programming/). There are other online tutorials as well.\n",
    "```"
   ]
  },
  {
   "cell_type": "markdown",
   "metadata": {},
   "source": [
    "### Query Materials by Material ID\n",
    "You can query the Materials Project database for information about a material by its material ID. The material ID is a unique identifier that is assigned to each material in the database. You can find the material ID for a material by searching for the material on the Materials Project website."
   ]
  },
  {
   "cell_type": "code",
   "execution_count": 4,
   "metadata": {},
   "outputs": [
    {
     "data": {
      "application/vnd.jupyter.widget-view+json": {
       "model_id": "1d7da08a059b43258dca6cdb6c984158",
       "version_major": 2,
       "version_minor": 0
      },
      "text/plain": [
       "Retrieving SummaryDoc documents:   0%|          | 0/4 [00:00<?, ?it/s]"
      ]
     },
     "metadata": {},
     "output_type": "display_data"
    }
   ],
   "source": [
    "from mp_api.client import MPRester\n",
    "\n",
    "# Pass your API key directly as an argument.\n",
    "with MPRester(MP_API_KEY) as mpr:\n",
    "    docs = mpr.materials.summary.search(\n",
    "        material_ids=[\"mp-149\", \"mp-13\", \"mp-2131\",\"mp-5777\"]\n",
    "    )\n"
   ]
  },
  {
   "cell_type": "markdown",
   "metadata": {},
   "source": [
    "### Show the Available Fields\n",
    "We can check the available properties from `mpr.materials.summary.available_fields`."
   ]
  },
  {
   "cell_type": "code",
   "execution_count": 4,
   "metadata": {},
   "outputs": [
    {
     "name": "stdout",
     "output_type": "stream",
     "text": [
      "Available fields: ['builder_meta', 'nsites', 'elements', 'nelements', 'composition', 'composition_reduced', 'formula_pretty', 'formula_anonymous', 'chemsys', 'volume', 'density', 'density_atomic', 'symmetry', 'property_name', 'material_id', 'deprecated', 'deprecation_reasons', 'last_updated', 'origins', 'warnings', 'structure', 'task_ids', 'uncorrected_energy_per_atom', 'energy_per_atom', 'formation_energy_per_atom', 'energy_above_hull', 'is_stable', 'equilibrium_reaction_energy_per_atom', 'decomposes_to', 'xas', 'grain_boundaries', 'band_gap', 'cbm', 'vbm', 'efermi', 'is_gap_direct', 'is_metal', 'es_source_calc_id', 'bandstructure', 'dos', 'dos_energy_up', 'dos_energy_down', 'is_magnetic', 'ordering', 'total_magnetization', 'total_magnetization_normalized_vol', 'total_magnetization_normalized_formula_units', 'num_magnetic_sites', 'num_unique_magnetic_sites', 'types_of_magnetic_species', 'bulk_modulus', 'shear_modulus', 'universal_anisotropy', 'homogeneous_poisson', 'e_total', 'e_ionic', 'e_electronic', 'n', 'e_ij_max', 'weighted_surface_energy_EV_PER_ANG2', 'weighted_surface_energy', 'weighted_work_function', 'surface_anisotropy', 'shape_factor', 'has_reconstructed', 'possible_species', 'has_props', 'theoretical', 'database_IDs']\n",
      "\n",
      "--------------------\n",
      "Material ID: mp-149\n",
      "Theoretical? False\n",
      "Formula: Si\n",
      "\n",
      "--------------------\n",
      "Material ID: mp-2131\n",
      "Theoretical? False\n",
      "Formula: SrN6\n",
      "\n",
      "--------------------\n",
      "Material ID: mp-13\n",
      "Theoretical? False\n",
      "Formula: Fe\n",
      "\n",
      "--------------------\n",
      "Material ID: mp-5777\n",
      "Theoretical? False\n",
      "Formula: BaTiO3\n"
     ]
    }
   ],
   "source": [
    "print(f\"Available fields: {mpr.materials.summary.available_fields}\")\n",
    "\n",
    "# Print out the data (some) for each material\n",
    "for example_doc in docs:\n",
    "    print(\"\\n--------------------\")\n",
    "    print(f\"Material ID: {example_doc.material_id}\")\n",
    "    print(f\"Theoretical? {example_doc.theoretical}\") # whether this structure is a purely theoretical structure or  not (also exist in experiment)\n",
    "    print(f\"Formula: {example_doc.formula_pretty}\")\n"
   ]
  },
  {
   "cell_type": "markdown",
   "metadata": {},
   "source": [
    "### Customize the Search Function\n",
    "We can customize our search in `search()` function. For example, we can search for materials with a specific chemical formula, or we can search for materials with specific density. Please note that sometimes, the search may return lots of results, it's better to save these results into a `json` file.\n",
    "\n",
    "#### Chemsys Search\n",
    "You can use `chemsys` to search for materials with specific elements. For example, `Fe-O` will search for materials with Iron and Oxygen. You can also use `fields` to specify the properties you want to get. You can find more information about the search in the [Materials Project API documentation](https://materialsproject.org/docs/api)."
   ]
  },
  {
   "cell_type": "code",
   "execution_count": 5,
   "metadata": {},
   "outputs": [
    {
     "data": {
      "application/vnd.jupyter.widget-view+json": {
       "model_id": "656e56a857874d5e89ac456bec5b9792",
       "version_major": 2,
       "version_minor": 0
      },
      "text/plain": [
       "Retrieving SummaryDoc documents:   0%|          | 0/5 [00:00<?, ?it/s]"
      ]
     },
     "metadata": {},
     "output_type": "display_data"
    }
   ],
   "source": [
    "with MPRester(MP_API_KEY) as mpr:\n",
    "    docs = mpr.materials.summary.search(\n",
    "        chemsys=\"Li-Fe-P-O\", is_stable=True,\n",
    "        fields=[\"material_id\", \"volume\", \"elements\",\"structure\"]\n",
    "    )\n"
   ]
  },
  {
   "cell_type": "code",
   "execution_count": 6,
   "metadata": {},
   "outputs": [],
   "source": [
    "# dump results to a json file\n",
    "import json\n",
    "with open('materials_data.json', 'w') as f:\n",
    "    json.dump([doc.dict() for doc in docs], f, indent=4)\n"
   ]
  },
  {
   "cell_type": "markdown",
   "metadata": {},
   "source": [
    "You can use wildcard `*` to search for all elements. You can also put formula pattern in search. For example, `ABO3` will search for ternary materials with formula ending with `O3`, structure with perovskite related composition.\n"
   ]
  },
  {
   "cell_type": "code",
   "execution_count": 7,
   "metadata": {},
   "outputs": [
    {
     "data": {
      "application/vnd.jupyter.widget-view+json": {
       "model_id": "6f8ff571d7e24d8482202065d56455b2",
       "version_major": 2,
       "version_minor": 0
      },
      "text/plain": [
       "Retrieving SummaryDoc documents:   0%|          | 0/71 [00:00<?, ?it/s]"
      ]
     },
     "metadata": {},
     "output_type": "display_data"
    },
    {
     "name": "stdout",
     "output_type": "stream",
     "text": [
      "Materials found: 71\n",
      "Material ID: mp-1221539, Band gap: 0.91 eV, Composition: Mo4 Br12 O4, Energy above hull: 0.00 meV\n",
      "Material ID: mp-558934, Band gap: 1.27 eV, Composition: Hg36 Cl12 O12, Energy above hull: 4.59 meV\n",
      "Material ID: mp-29019, Band gap: 0.63 eV, Composition: Rb18 I6 O6, Energy above hull: 0.00 meV\n",
      "Material ID: mp-505212, Band gap: 1.33 eV, Composition: Cs6 Au2 O2, Energy above hull: 0.00 meV\n",
      "Material ID: mp-28166, Band gap: 0.89 eV, Composition: K3 Br1 O1, Energy above hull: 0.00 meV\n",
      "Material ID: mp-28171, Band gap: 1.03 eV, Composition: K3 I1 O1, Energy above hull: 0.00 meV\n",
      "Material ID: mp-9200, Band gap: 0.56 eV, Composition: K3 Au1 O1, Energy above hull: 0.00 meV\n",
      "Material ID: mp-673798, Band gap: 1.03 eV, Composition: K6 Cl2 O2, Energy above hull: 7.48 meV\n",
      "Material ID: mp-546285, Band gap: 0.82 eV, Composition: Nb2 I6 O2, Energy above hull: 0.00 meV\n",
      "Material ID: mp-11649, Band gap: 0.51 eV, Composition: Ca12 Si4 O4, Energy above hull: 0.71 meV\n",
      "Material ID: mp-572291, Band gap: 1.08 eV, Composition: K12 Cl4 O4, Energy above hull: 0.40 meV\n",
      "Material ID: mp-755428, Band gap: 1.22 eV, Composition: Rb12 Cl4 O4, Energy above hull: 0.00 meV\n",
      "Material ID: mp-757636, Band gap: 0.96 eV, Composition: Nb8 Tl8 O24, Energy above hull: 0.00 meV\n",
      "Material ID: mp-545482, Band gap: 1.06 eV, Composition: Pd2 Se2 O6, Energy above hull: 0.00 meV\n",
      "Material ID: mp-1283250, Band gap: 1.14 eV, Composition: Ba4 Co4 O12, Energy above hull: 1.06 meV\n",
      "Material ID: mp-1542758, Band gap: 1.31 eV, Composition: Sr2 Mo2 O6, Energy above hull: 0.00 meV\n",
      "Material ID: mp-546684, Band gap: 0.82 eV, Composition: Pd2 Se2 O6, Energy above hull: 4.67 meV\n",
      "Material ID: mp-1106094, Band gap: 0.88 eV, Composition: K4 C4 O12, Energy above hull: 0.00 meV\n",
      "Material ID: mp-607467, Band gap: 1.10 eV, Composition: Ca4 Mo4 O12, Energy above hull: 0.00 meV\n",
      "Material ID: mp-727242, Band gap: 0.67 eV, Composition: Na4 C4 O12, Energy above hull: 1.81 meV\n",
      "Material ID: mp-755893, Band gap: 0.67 eV, Composition: Ca4 Bi4 O12, Energy above hull: 0.00 meV\n",
      "Material ID: mp-755478, Band gap: 0.77 eV, Composition: Cd2 Bi2 O6, Energy above hull: 4.83 meV\n",
      "Material ID: mp-1288145, Band gap: 0.95 eV, Composition: La2 Co2 O6, Energy above hull: 0.00 meV\n",
      "Material ID: mp-20569, Band gap: 0.88 eV, Composition: Mn2 Sn2 O6, Energy above hull: 0.00 meV\n",
      "Material ID: mp-23054, Band gap: 1.10 eV, Composition: Na2 Bi2 O6, Energy above hull: 0.00 meV\n",
      "Material ID: mp-754246, Band gap: 1.11 eV, Composition: Ti2 Sn2 O6, Energy above hull: 9.59 meV\n",
      "Material ID: mp-754329, Band gap: 0.98 eV, Composition: Cd2 Sn2 O6, Energy above hull: 1.07 meV\n",
      "Material ID: mp-676262, Band gap: 0.98 eV, Composition: Ta8 Tl8 O24, Energy above hull: 0.00 meV\n",
      "Material ID: mp-23501, Band gap: 1.28 eV, Composition: Fe2 Bi2 O6, Energy above hull: 1.63 meV\n",
      "Material ID: mp-30284, Band gap: 1.24 eV, Composition: Hg2 As2 O6, Energy above hull: 0.00 meV\n",
      "Material ID: mp-18840, Band gap: 0.90 eV, Composition: Ba3 Mn3 O9, Energy above hull: 0.00 meV\n",
      "Material ID: mp-675227, Band gap: 0.87 eV, Composition: Ba5 Mn5 O15, Energy above hull: 1.78 meV\n",
      "Material ID: mp-1120755, Band gap: 0.66 eV, Composition: Na2 C2 O6, Energy above hull: 0.00 meV\n",
      "Material ID: mp-19051, Band gap: 1.00 eV, Composition: La4 Co4 O12, Energy above hull: 3.32 meV\n",
      "Material ID: mp-19097, Band gap: 1.48 eV, Composition: Fe2 B2 O6, Energy above hull: 0.00 meV\n",
      "Material ID: mp-19001, Band gap: 0.90 eV, Composition: Sr4 Mn4 O12, Energy above hull: 3.06 meV\n",
      "Material ID: mp-19138, Band gap: 1.47 eV, Composition: Ba2 Ni2 O6, Energy above hull: 0.00 meV\n",
      "Material ID: mp-557535, Band gap: 0.84 eV, Composition: Ba8 Mn8 O24, Energy above hull: 1.22 meV\n",
      "Material ID: mp-8098, Band gap: 1.34 eV, Composition: In2 Ga2 O6, Energy above hull: 0.00 meV\n",
      "Material ID: mp-1045305, Band gap: 1.14 eV, Composition: Ca4 Mo4 O12, Energy above hull: 9.69 meV\n",
      "Material ID: mp-1178212, Band gap: 0.86 eV, Composition: Fe4 Sn4 O12, Energy above hull: 0.00 meV\n",
      "Material ID: mp-1279343, Band gap: 0.96 eV, Composition: Co2 Ni2 O6, Energy above hull: 0.37 meV\n",
      "Material ID: mp-861502, Band gap: 0.99 eV, Composition: Ac1 Fe1 O3, Energy above hull: 0.00 meV\n",
      "Material ID: mp-935811, Band gap: 1.41 eV, Composition: K1 Nb1 O3, Energy above hull: 7.73 meV\n",
      "Material ID: mp-977455, Band gap: 0.92 eV, Composition: Pa1 Ag1 O3, Energy above hull: 0.00 meV\n",
      "Material ID: mp-756933, Band gap: 0.66 eV, Composition: Ta4 Tl4 O12, Energy above hull: 4.27 meV\n",
      "Material ID: mp-1205366, Band gap: 1.09 eV, Composition: Lu4 Rh4 O12, Energy above hull: 0.00 meV\n",
      "Material ID: mp-1207705, Band gap: 0.96 eV, Composition: Tm4 Rh4 O12, Energy above hull: 0.00 meV\n",
      "Material ID: mp-1209329, Band gap: 1.30 eV, Composition: Pr4 V4 O12, Energy above hull: 0.00 meV\n",
      "Material ID: mp-1212108, Band gap: 0.96 eV, Composition: Ho4 Rh4 O12, Energy above hull: 0.00 meV\n",
      "Material ID: mp-1212884, Band gap: 0.89 eV, Composition: Dy4 Rh4 O12, Energy above hull: 0.00 meV\n",
      "Material ID: mp-1213022, Band gap: 0.96 eV, Composition: Er4 Rh4 O12, Energy above hull: 0.00 meV\n",
      "Material ID: mp-19012, Band gap: 1.13 eV, Composition: Ca4 Mo4 O12, Energy above hull: 6.36 meV\n",
      "Material ID: mp-19802, Band gap: 1.42 eV, Composition: Tb4 Co4 O12, Energy above hull: 0.00 meV\n",
      "Material ID: mp-20079, Band gap: 0.93 eV, Composition: Ca4 Pb4 O12, Energy above hull: 2.45 meV\n",
      "Material ID: mp-20489, Band gap: 0.79 eV, Composition: Sr4 Pb4 O12, Energy above hull: 0.00 meV\n",
      "Material ID: mp-22137, Band gap: 1.19 eV, Composition: Dy4 Co4 O12, Energy above hull: 9.31 meV\n",
      "Material ID: mp-22283, Band gap: 0.91 eV, Composition: Dy4 Fe4 O12, Energy above hull: 6.33 meV\n",
      "Material ID: mp-22341, Band gap: 1.08 eV, Composition: Pr4 Fe4 O12, Energy above hull: 0.00 meV\n",
      "Material ID: mp-3317, Band gap: 0.73 eV, Composition: Sm4 Rh4 O12, Energy above hull: 0.00 meV\n",
      "Material ID: mp-4582, Band gap: 0.65 eV, Composition: Nd4 Rh4 O12, Energy above hull: 0.00 meV\n",
      "Material ID: mp-4789, Band gap: 0.60 eV, Composition: Pr4 Rh4 O12, Energy above hull: 0.00 meV\n",
      "Material ID: mp-5163, Band gap: 0.59 eV, Composition: La4 Rh4 O12, Energy above hull: 0.00 meV\n",
      "Material ID: mp-541129, Band gap: 1.03 eV, Composition: Nd4 V4 O12, Energy above hull: 0.00 meV\n",
      "Material ID: mp-554811, Band gap: 1.44 eV, Composition: Tb4 V4 O12, Energy above hull: 0.00 meV\n",
      "Material ID: mp-562779, Band gap: 1.45 eV, Composition: Er4 Co4 O12, Energy above hull: 0.00 meV\n",
      "Material ID: mp-5692, Band gap: 0.87 eV, Composition: Tb4 Rh4 O12, Energy above hull: 0.00 meV\n",
      "Material ID: mp-4784, Band gap: 1.30 eV, Composition: Ca2 Pt2 O6, Energy above hull: 0.00 meV\n",
      "Material ID: mp-1178513, Band gap: 0.67 eV, Composition: Ba2 Sn2 O6, Energy above hull: 0.65 meV\n",
      "Material ID: mp-1101462, Band gap: 0.95 eV, Composition: Nb8 Tl8 O24, Energy above hull: 1.37 meV\n",
      "Material ID: mp-4342, Band gap: 1.48 eV, Composition: K1 Nb1 O3, Energy above hull: 1.19 meV\n"
     ]
    }
   ],
   "source": [
    "with MPRester(MP_API_KEY) as mpr:\n",
    "    docs = mpr.materials.summary.search(\n",
    "        chemsys=\"O-*-*\", formula=\"ABO3\",\n",
    "        fields=[\"material_id\", \"band_gap\",\"composition\", \"energy_above_hull\"], \n",
    "        energy_above_hull=[0,0.01], band_gap=[0.5, 1.5]\n",
    "    )\n",
    "    mpid_bgap_dict = {doc.material_id: [doc.band_gap, doc.composition, doc.energy_above_hull] for doc in docs}\n",
    "\n",
    "print(f\"Materials found: {len(mpid_bgap_dict)}\")\n",
    "for mpid, (bgap, composition, energy_above_hull) in mpid_bgap_dict.items():\n",
    "    print(f\"Material ID: {mpid}, Band gap: {bgap:.2f} eV, Composition: {composition}, Energy above hull: {energy_above_hull*1000:.2f} meV\")\n"
   ]
  },
  {
   "cell_type": "markdown",
   "metadata": {},
   "source": [
    "```{admonition} Results from Materials Project\n",
    ":class: tip\n",
    "Results from Materials Project are the calculated values using DFT. They may not be the same as the experimental values. You should always verify the results from the Materials Project with the experimental data. Some properties, e.g. band gap, are difficult to calculate accurately. You should be careful when using these properties.\n",
    "```"
   ]
  },
  {
   "cell_type": "markdown",
   "metadata": {},
   "source": [
    "### Get Properties\n",
    "\n",
    "#### Get Structure\n",
    "You can get the structure of the material using `get_structure_by_material_id()` function. It will return a `pymatgen.core.Structure` object. You can save the structure to a `cif` file using `structure.to()` function.\n"
   ]
  },
  {
   "cell_type": "code",
   "execution_count": 8,
   "metadata": {},
   "outputs": [
    {
     "data": {
      "application/vnd.jupyter.widget-view+json": {
       "model_id": "4fb5a48fb3b54957adae5380c8b9cfc0",
       "version_major": 2,
       "version_minor": 0
      },
      "text/plain": [
       "Retrieving MaterialsDoc documents:   0%|          | 0/1 [00:00<?, ?it/s]"
      ]
     },
     "metadata": {},
     "output_type": "display_data"
    },
    {
     "name": "stderr",
     "output_type": "stream",
     "text": [
      "c:\\Users\\86155\\anaconda3\\envs\\mi\\Lib\\site-packages\\pymatgen\\io\\cif.py:1724: FutureWarning: We strongly discourage using implicit binary/text `mode`, and this would not be allowed after 2025-06-01. I.e. you should pass t/b in `mode`.\n",
      "  with zopen(filename, mode=mode) as file:\n"
     ]
    },
    {
     "data": {
      "text/plain": [
       "\"# generated using pymatgen\\ndata_Si\\n_symmetry_space_group_name_H-M   'P 1'\\n_cell_length_a   3.84927840\\n_cell_length_b   3.84927941\\n_cell_length_c   3.84927800\\n_cell_angle_alpha   60.00001213\\n_cell_angle_beta   60.00000347\\n_cell_angle_gamma   60.00001098\\n_symmetry_Int_Tables_number   1\\n_chemical_formula_structural   Si\\n_chemical_formula_sum   Si2\\n_cell_volume   40.32952685\\n_cell_formula_units_Z   2\\nloop_\\n _symmetry_equiv_pos_site_id\\n _symmetry_equiv_pos_as_xyz\\n  1  'x, y, z'\\nloop_\\n _atom_site_type_symbol\\n _atom_site_label\\n _atom_site_symmetry_multiplicity\\n _atom_site_fract_x\\n _atom_site_fract_y\\n _atom_site_fract_z\\n _atom_site_occupancy\\n  Si  Si0  1  0.87500000  0.87500000  0.87500000  1\\n  Si  Si1  1  0.12500000  0.12500000  0.12500000  1\\n\""
      ]
     },
     "execution_count": 8,
     "metadata": {},
     "output_type": "execute_result"
    }
   ],
   "source": [
    "from mp_api.client import MPRester\n",
    "\n",
    "with MPRester(MP_API_KEY) as mpr:\n",
    "    structure = mpr.materials.get_structure_by_material_id(material_id=\"mp-149\")\n",
    "\n",
    "structure.to(filename=\"mp-149.cif\")\n",
    "                                                      "
   ]
  },
  {
   "cell_type": "markdown",
   "metadata": {},
   "source": [
    "#### Thermodynamic Properties\n",
    "You can construct a phase diagram using the queried data from Materials Project using `get_phase_diagram_from_chemsys()` function. Noted that the phase diagram is calculated using DFT and may not be the same as the experimental phase diagram as there is no temperature and pressure information."
   ]
  },
  {
   "cell_type": "code",
   "execution_count": 9,
   "metadata": {},
   "outputs": [
    {
     "data": {
      "application/vnd.plotly.v1+json": {
       "config": {
        "plotlyServerURL": "https://plot.ly"
       },
       "data": [
        {
         "hoverinfo": "none",
         "line": {
          "color": "black",
          "width": 4
         },
         "mode": "lines",
         "showlegend": false,
         "type": "scatter",
         "x": [
          0.25,
          0,
          null,
          0.5,
          1,
          null,
          0.5,
          0.25,
          null
         ],
         "y": [
          -0.03656425250000028,
          0,
          null,
          -0.0481374950000002,
          0,
          null,
          -0.0481374950000002,
          -0.03656425250000028,
          null
         ]
        },
        {
         "hoverinfo": "skip",
         "mode": "text",
         "name": "Labels (stable)",
         "opacity": 1,
         "showlegend": true,
         "text": [
          "Cu<sub>3</sub>Au",
          "CuAu"
         ],
         "textposition": [
          "bottom left",
          "bottom right"
         ],
         "type": "scatter",
         "visible": true,
         "x": [
          0.242,
          0.508
         ],
         "y": [
          -0.04956425250000028,
          -0.061137495000000194
         ]
        },
        {
         "error_y": {
          "array": [
           0,
           0,
           0,
           0
          ],
          "color": "gray",
          "thickness": 2.5,
          "type": "data",
          "width": 5
         },
         "hoverinfo": "text",
         "hoverlabel": {
          "font": {
           "size": 14
          }
         },
         "hovertext": [
          "Cu<sub>3</sub>Au (mp-2258-GGA) <br>  Formation energy: -0.037 eV/atom <br>  (Stable)",
          "Cu (mp-30-GGA) <br>  Formation energy: 0.0 eV/atom <br>  (Stable)",
          "CuAu (mp-522-GGA) <br>  Formation energy: -0.048 eV/atom <br>  (Stable)",
          "Au (mp-81-GGA) <br>  Formation energy: 0.0 eV/atom <br>  (Stable)"
         ],
         "marker": {
          "color": "darkgreen",
          "line": {
           "color": "black",
           "width": 2
          },
          "size": 16
         },
         "mode": "markers",
         "name": "Stable",
         "opacity": 0.99,
         "showlegend": true,
         "type": "scatter",
         "x": [
          0.25,
          0,
          0.5,
          1
         ],
         "y": [
          -0.03656425250000028,
          0,
          -0.0481374950000002,
          0
         ]
        },
        {
         "hoverinfo": "text",
         "hoverlabel": {
          "font": {
           "size": 14
          }
         },
         "hovertext": [
          "Cu (mp-1010136-GGA) <br>  Formation energy: 0.036 eV/atom <br>  Energy Above Hull: (+0.036 eV/atom)",
          "Cu (mp-1120774-GGA) <br>  Formation energy: 0.159 eV/atom <br>  Energy Above Hull: (+0.159 eV/atom)",
          "Cu (mp-989695-GGA) <br>  Formation energy: 0.006 eV/atom <br>  Energy Above Hull: (+0.006 eV/atom)",
          "Cu (mp-989782-GGA) <br>  Formation energy: 0.007 eV/atom <br>  Energy Above Hull: (+0.007 eV/atom)",
          "Cu (mp-998890-GGA) <br>  Formation energy: 0.037 eV/atom <br>  Energy Above Hull: (+0.037 eV/atom)",
          "Cu (mp-1059259-GGA) <br>  Formation energy: 0.143 eV/atom <br>  Energy Above Hull: (+0.143 eV/atom)",
          "CuAu<sub>3</sub> (mp-1184018-GGA) <br>  Formation energy: -0.012 eV/atom <br>  Energy Above Hull: (+0.012 eV/atom)",
          "CuAu (mp-1225677-GGA) <br>  Formation energy: 0.024 eV/atom <br>  Energy Above Hull: (+0.072 eV/atom)",
          "CuAu<sub>4</sub> (mp-1225742-GGA) <br>  Formation energy: 0.013 eV/atom <br>  Energy Above Hull: (+0.032 eV/atom)",
          "Cu<sub>4</sub>Au (mp-1225761-GGA) <br>  Formation energy: 0.065 eV/atom <br>  Energy Above Hull: (+0.094 eV/atom)",
          "CuAu<sub>3</sub> (mp-1184004-GGA) <br>  Formation energy: -0.008 eV/atom <br>  Energy Above Hull: (+0.016 eV/atom)",
          "CuAu<sub>3</sub> (mp-2103-GGA) <br>  Formation energy: -0.018 eV/atom <br>  Energy Above Hull: (+0.006 eV/atom)",
          "CuAu (mp-582681-GGA) <br>  Formation energy: -0.039 eV/atom <br>  Energy Above Hull: (+0.009 eV/atom)",
          "Au (mp-1238808-GGA) <br>  Formation energy: 0.118 eV/atom <br>  Energy Above Hull: (+0.118 eV/atom)",
          "Au (mp-1008634-GGA) <br>  Formation energy: 0.005 eV/atom <br>  Energy Above Hull: (+0.005 eV/atom)",
          "Au (mp-2647062-GGA) <br>  Formation energy: 0.022 eV/atom <br>  Energy Above Hull: (+0.022 eV/atom)"
         ],
         "marker": {
          "color": [
           0.036,
           0.159,
           0.006,
           0.007,
           0.037,
           0.143,
           0.012,
           0.072,
           0.032,
           0.094,
           0.016,
           0.006,
           0.009,
           0.118,
           0.005,
           0.022
          ],
          "colorscale": [
           [
            0,
            "#fff5e3"
           ],
           [
            0.5,
            "#f24324"
           ],
           [
            1,
            "#c40000"
           ]
          ],
          "line": {
           "color": "black",
           "width": 1
          },
          "opacity": 0.8,
          "size": 7,
          "symbol": "diamond"
         },
         "mode": "markers",
         "name": "Above Hull",
         "showlegend": true,
         "type": "scatter",
         "x": [
          0,
          0,
          0,
          0,
          0,
          0,
          0.75,
          0.5,
          0.8,
          0.2,
          0.75,
          0.75,
          0.5,
          1,
          1,
          1
         ],
         "y": [
          0.035708360000000106,
          0.15911679499999978,
          0.0057660850000003094,
          0.0074918249999997855,
          0.036640020000000106,
          0.14290572499999987,
          -0.012307605000000166,
          0.02403494999999989,
          0.012961133999999675,
          0.06479794400000002,
          -0.008191705000000216,
          -0.0176342475000002,
          -0.039033480500000196,
          0.11838149999999992,
          0.0053011000000000585,
          0.021884699999999757
         ]
        }
       ],
       "layout": {
        "annotations": [
         {
          "align": "center",
          "font": {
           "color": "#000000",
           "size": 24
          },
          "opacity": 1,
          "showarrow": false,
          "text": "Cu",
          "x": -0.03,
          "xref": "x",
          "y": -0.03,
          "yref": "y"
         },
         {
          "align": "center",
          "font": {
           "color": "#000000",
           "size": 24
          },
          "opacity": 1,
          "showarrow": false,
          "text": "Au",
          "x": 1.03,
          "xref": "x",
          "y": -0.03,
          "yref": "y"
         }
        ],
        "autosize": true,
        "coloraxis": {
         "colorbar": {
          "x": 1,
          "y": 0.05,
          "yanchor": "top"
         }
        },
        "hovermode": "closest",
        "legend": {
         "orientation": "h",
         "tracegroupgap": 7,
         "traceorder": "reversed",
         "x": 0,
         "xanchor": "left",
         "y": 1.05
        },
        "margin": {
         "b": 10,
         "l": 10,
         "pad": 0,
         "r": 10,
         "t": 0
        },
        "paper_bgcolor": "rgba(0,0,0,0)",
        "plot_bgcolor": "rgba(0,0,0,0)",
        "showlegend": true,
        "template": {
         "data": {
          "bar": [
           {
            "error_x": {
             "color": "#2a3f5f"
            },
            "error_y": {
             "color": "#2a3f5f"
            },
            "marker": {
             "line": {
              "color": "#E5ECF6",
              "width": 0.5
             },
             "pattern": {
              "fillmode": "overlay",
              "size": 10,
              "solidity": 0.2
             }
            },
            "type": "bar"
           }
          ],
          "barpolar": [
           {
            "marker": {
             "line": {
              "color": "#E5ECF6",
              "width": 0.5
             },
             "pattern": {
              "fillmode": "overlay",
              "size": 10,
              "solidity": 0.2
             }
            },
            "type": "barpolar"
           }
          ],
          "carpet": [
           {
            "aaxis": {
             "endlinecolor": "#2a3f5f",
             "gridcolor": "white",
             "linecolor": "white",
             "minorgridcolor": "white",
             "startlinecolor": "#2a3f5f"
            },
            "baxis": {
             "endlinecolor": "#2a3f5f",
             "gridcolor": "white",
             "linecolor": "white",
             "minorgridcolor": "white",
             "startlinecolor": "#2a3f5f"
            },
            "type": "carpet"
           }
          ],
          "choropleth": [
           {
            "colorbar": {
             "outlinewidth": 0,
             "ticks": ""
            },
            "type": "choropleth"
           }
          ],
          "contour": [
           {
            "colorbar": {
             "outlinewidth": 0,
             "ticks": ""
            },
            "colorscale": [
             [
              0,
              "#0d0887"
             ],
             [
              0.1111111111111111,
              "#46039f"
             ],
             [
              0.2222222222222222,
              "#7201a8"
             ],
             [
              0.3333333333333333,
              "#9c179e"
             ],
             [
              0.4444444444444444,
              "#bd3786"
             ],
             [
              0.5555555555555556,
              "#d8576b"
             ],
             [
              0.6666666666666666,
              "#ed7953"
             ],
             [
              0.7777777777777778,
              "#fb9f3a"
             ],
             [
              0.8888888888888888,
              "#fdca26"
             ],
             [
              1,
              "#f0f921"
             ]
            ],
            "type": "contour"
           }
          ],
          "contourcarpet": [
           {
            "colorbar": {
             "outlinewidth": 0,
             "ticks": ""
            },
            "type": "contourcarpet"
           }
          ],
          "heatmap": [
           {
            "colorbar": {
             "outlinewidth": 0,
             "ticks": ""
            },
            "colorscale": [
             [
              0,
              "#0d0887"
             ],
             [
              0.1111111111111111,
              "#46039f"
             ],
             [
              0.2222222222222222,
              "#7201a8"
             ],
             [
              0.3333333333333333,
              "#9c179e"
             ],
             [
              0.4444444444444444,
              "#bd3786"
             ],
             [
              0.5555555555555556,
              "#d8576b"
             ],
             [
              0.6666666666666666,
              "#ed7953"
             ],
             [
              0.7777777777777778,
              "#fb9f3a"
             ],
             [
              0.8888888888888888,
              "#fdca26"
             ],
             [
              1,
              "#f0f921"
             ]
            ],
            "type": "heatmap"
           }
          ],
          "heatmapgl": [
           {
            "colorbar": {
             "outlinewidth": 0,
             "ticks": ""
            },
            "colorscale": [
             [
              0,
              "#0d0887"
             ],
             [
              0.1111111111111111,
              "#46039f"
             ],
             [
              0.2222222222222222,
              "#7201a8"
             ],
             [
              0.3333333333333333,
              "#9c179e"
             ],
             [
              0.4444444444444444,
              "#bd3786"
             ],
             [
              0.5555555555555556,
              "#d8576b"
             ],
             [
              0.6666666666666666,
              "#ed7953"
             ],
             [
              0.7777777777777778,
              "#fb9f3a"
             ],
             [
              0.8888888888888888,
              "#fdca26"
             ],
             [
              1,
              "#f0f921"
             ]
            ],
            "type": "heatmapgl"
           }
          ],
          "histogram": [
           {
            "marker": {
             "pattern": {
              "fillmode": "overlay",
              "size": 10,
              "solidity": 0.2
             }
            },
            "type": "histogram"
           }
          ],
          "histogram2d": [
           {
            "colorbar": {
             "outlinewidth": 0,
             "ticks": ""
            },
            "colorscale": [
             [
              0,
              "#0d0887"
             ],
             [
              0.1111111111111111,
              "#46039f"
             ],
             [
              0.2222222222222222,
              "#7201a8"
             ],
             [
              0.3333333333333333,
              "#9c179e"
             ],
             [
              0.4444444444444444,
              "#bd3786"
             ],
             [
              0.5555555555555556,
              "#d8576b"
             ],
             [
              0.6666666666666666,
              "#ed7953"
             ],
             [
              0.7777777777777778,
              "#fb9f3a"
             ],
             [
              0.8888888888888888,
              "#fdca26"
             ],
             [
              1,
              "#f0f921"
             ]
            ],
            "type": "histogram2d"
           }
          ],
          "histogram2dcontour": [
           {
            "colorbar": {
             "outlinewidth": 0,
             "ticks": ""
            },
            "colorscale": [
             [
              0,
              "#0d0887"
             ],
             [
              0.1111111111111111,
              "#46039f"
             ],
             [
              0.2222222222222222,
              "#7201a8"
             ],
             [
              0.3333333333333333,
              "#9c179e"
             ],
             [
              0.4444444444444444,
              "#bd3786"
             ],
             [
              0.5555555555555556,
              "#d8576b"
             ],
             [
              0.6666666666666666,
              "#ed7953"
             ],
             [
              0.7777777777777778,
              "#fb9f3a"
             ],
             [
              0.8888888888888888,
              "#fdca26"
             ],
             [
              1,
              "#f0f921"
             ]
            ],
            "type": "histogram2dcontour"
           }
          ],
          "mesh3d": [
           {
            "colorbar": {
             "outlinewidth": 0,
             "ticks": ""
            },
            "type": "mesh3d"
           }
          ],
          "parcoords": [
           {
            "line": {
             "colorbar": {
              "outlinewidth": 0,
              "ticks": ""
             }
            },
            "type": "parcoords"
           }
          ],
          "pie": [
           {
            "automargin": true,
            "type": "pie"
           }
          ],
          "scatter": [
           {
            "fillpattern": {
             "fillmode": "overlay",
             "size": 10,
             "solidity": 0.2
            },
            "type": "scatter"
           }
          ],
          "scatter3d": [
           {
            "line": {
             "colorbar": {
              "outlinewidth": 0,
              "ticks": ""
             }
            },
            "marker": {
             "colorbar": {
              "outlinewidth": 0,
              "ticks": ""
             }
            },
            "type": "scatter3d"
           }
          ],
          "scattercarpet": [
           {
            "marker": {
             "colorbar": {
              "outlinewidth": 0,
              "ticks": ""
             }
            },
            "type": "scattercarpet"
           }
          ],
          "scattergeo": [
           {
            "marker": {
             "colorbar": {
              "outlinewidth": 0,
              "ticks": ""
             }
            },
            "type": "scattergeo"
           }
          ],
          "scattergl": [
           {
            "marker": {
             "colorbar": {
              "outlinewidth": 0,
              "ticks": ""
             }
            },
            "type": "scattergl"
           }
          ],
          "scattermapbox": [
           {
            "marker": {
             "colorbar": {
              "outlinewidth": 0,
              "ticks": ""
             }
            },
            "type": "scattermapbox"
           }
          ],
          "scatterpolar": [
           {
            "marker": {
             "colorbar": {
              "outlinewidth": 0,
              "ticks": ""
             }
            },
            "type": "scatterpolar"
           }
          ],
          "scatterpolargl": [
           {
            "marker": {
             "colorbar": {
              "outlinewidth": 0,
              "ticks": ""
             }
            },
            "type": "scatterpolargl"
           }
          ],
          "scatterternary": [
           {
            "marker": {
             "colorbar": {
              "outlinewidth": 0,
              "ticks": ""
             }
            },
            "type": "scatterternary"
           }
          ],
          "surface": [
           {
            "colorbar": {
             "outlinewidth": 0,
             "ticks": ""
            },
            "colorscale": [
             [
              0,
              "#0d0887"
             ],
             [
              0.1111111111111111,
              "#46039f"
             ],
             [
              0.2222222222222222,
              "#7201a8"
             ],
             [
              0.3333333333333333,
              "#9c179e"
             ],
             [
              0.4444444444444444,
              "#bd3786"
             ],
             [
              0.5555555555555556,
              "#d8576b"
             ],
             [
              0.6666666666666666,
              "#ed7953"
             ],
             [
              0.7777777777777778,
              "#fb9f3a"
             ],
             [
              0.8888888888888888,
              "#fdca26"
             ],
             [
              1,
              "#f0f921"
             ]
            ],
            "type": "surface"
           }
          ],
          "table": [
           {
            "cells": {
             "fill": {
              "color": "#EBF0F8"
             },
             "line": {
              "color": "white"
             }
            },
            "header": {
             "fill": {
              "color": "#C8D4E3"
             },
             "line": {
              "color": "white"
             }
            },
            "type": "table"
           }
          ]
         },
         "layout": {
          "annotationdefaults": {
           "arrowcolor": "#2a3f5f",
           "arrowhead": 0,
           "arrowwidth": 1
          },
          "autotypenumbers": "strict",
          "coloraxis": {
           "colorbar": {
            "outlinewidth": 0,
            "ticks": ""
           }
          },
          "colorscale": {
           "diverging": [
            [
             0,
             "#8e0152"
            ],
            [
             0.1,
             "#c51b7d"
            ],
            [
             0.2,
             "#de77ae"
            ],
            [
             0.3,
             "#f1b6da"
            ],
            [
             0.4,
             "#fde0ef"
            ],
            [
             0.5,
             "#f7f7f7"
            ],
            [
             0.6,
             "#e6f5d0"
            ],
            [
             0.7,
             "#b8e186"
            ],
            [
             0.8,
             "#7fbc41"
            ],
            [
             0.9,
             "#4d9221"
            ],
            [
             1,
             "#276419"
            ]
           ],
           "sequential": [
            [
             0,
             "#0d0887"
            ],
            [
             0.1111111111111111,
             "#46039f"
            ],
            [
             0.2222222222222222,
             "#7201a8"
            ],
            [
             0.3333333333333333,
             "#9c179e"
            ],
            [
             0.4444444444444444,
             "#bd3786"
            ],
            [
             0.5555555555555556,
             "#d8576b"
            ],
            [
             0.6666666666666666,
             "#ed7953"
            ],
            [
             0.7777777777777778,
             "#fb9f3a"
            ],
            [
             0.8888888888888888,
             "#fdca26"
            ],
            [
             1,
             "#f0f921"
            ]
           ],
           "sequentialminus": [
            [
             0,
             "#0d0887"
            ],
            [
             0.1111111111111111,
             "#46039f"
            ],
            [
             0.2222222222222222,
             "#7201a8"
            ],
            [
             0.3333333333333333,
             "#9c179e"
            ],
            [
             0.4444444444444444,
             "#bd3786"
            ],
            [
             0.5555555555555556,
             "#d8576b"
            ],
            [
             0.6666666666666666,
             "#ed7953"
            ],
            [
             0.7777777777777778,
             "#fb9f3a"
            ],
            [
             0.8888888888888888,
             "#fdca26"
            ],
            [
             1,
             "#f0f921"
            ]
           ]
          },
          "colorway": [
           "#636efa",
           "#EF553B",
           "#00cc96",
           "#ab63fa",
           "#FFA15A",
           "#19d3f3",
           "#FF6692",
           "#B6E880",
           "#FF97FF",
           "#FECB52"
          ],
          "font": {
           "color": "#2a3f5f"
          },
          "geo": {
           "bgcolor": "white",
           "lakecolor": "white",
           "landcolor": "#E5ECF6",
           "showlakes": true,
           "showland": true,
           "subunitcolor": "white"
          },
          "hoverlabel": {
           "align": "left"
          },
          "hovermode": "closest",
          "mapbox": {
           "style": "light"
          },
          "paper_bgcolor": "white",
          "plot_bgcolor": "#E5ECF6",
          "polar": {
           "angularaxis": {
            "gridcolor": "white",
            "linecolor": "white",
            "ticks": ""
           },
           "bgcolor": "#E5ECF6",
           "radialaxis": {
            "gridcolor": "white",
            "linecolor": "white",
            "ticks": ""
           }
          },
          "scene": {
           "xaxis": {
            "backgroundcolor": "#E5ECF6",
            "gridcolor": "white",
            "gridwidth": 2,
            "linecolor": "white",
            "showbackground": true,
            "ticks": "",
            "zerolinecolor": "white"
           },
           "yaxis": {
            "backgroundcolor": "#E5ECF6",
            "gridcolor": "white",
            "gridwidth": 2,
            "linecolor": "white",
            "showbackground": true,
            "ticks": "",
            "zerolinecolor": "white"
           },
           "zaxis": {
            "backgroundcolor": "#E5ECF6",
            "gridcolor": "white",
            "gridwidth": 2,
            "linecolor": "white",
            "showbackground": true,
            "ticks": "",
            "zerolinecolor": "white"
           }
          },
          "shapedefaults": {
           "line": {
            "color": "#2a3f5f"
           }
          },
          "ternary": {
           "aaxis": {
            "gridcolor": "white",
            "linecolor": "white",
            "ticks": ""
           },
           "baxis": {
            "gridcolor": "white",
            "linecolor": "white",
            "ticks": ""
           },
           "bgcolor": "#E5ECF6",
           "caxis": {
            "gridcolor": "white",
            "linecolor": "white",
            "ticks": ""
           }
          },
          "title": {
           "x": 0.05
          },
          "xaxis": {
           "automargin": true,
           "gridcolor": "white",
           "linecolor": "white",
           "ticks": "",
           "title": {
            "standoff": 15
           },
           "zerolinecolor": "white",
           "zerolinewidth": 2
          },
          "yaxis": {
           "automargin": true,
           "gridcolor": "white",
           "linecolor": "white",
           "ticks": "",
           "title": {
            "standoff": 15
           },
           "zerolinecolor": "white",
           "zerolinewidth": 2
          }
         }
        },
        "xaxis": {
         "anchor": "y",
         "gridcolor": "rgba(0,0,0,0.1)",
         "mirror": "ticks",
         "nticks": 8,
         "showgrid": true,
         "showline": true,
         "side": "bottom",
         "tickfont": {
          "size": 16
         },
         "ticks": "inside",
         "title": {
          "font": {
           "color": "#000000",
           "size": 20
          },
          "text": "Composition (Fraction Au)"
         },
         "type": "linear",
         "zeroline": false
        },
        "yaxis": {
         "anchor": "x",
         "gridcolor": "rgba(0,0,0,0.1)",
         "mirror": "ticks",
         "showgrid": true,
         "showline": true,
         "side": "left",
         "tickfont": {
          "size": 16
         },
         "ticks": "inside",
         "title": {
          "font": {
           "color": "#000000",
           "size": 20
          },
          "text": "Formation energy (eV/atom)"
         },
         "type": "linear"
        }
       }
      }
     },
     "metadata": {},
     "output_type": "display_data"
    }
   ],
   "source": [
    "from mp_api.client import MPRester\n",
    "from emmet.core.thermo import ThermoType\n",
    "\n",
    "with MPRester(MP_API_KEY) as mpr:\n",
    "    \n",
    "    # -- GGA/GGA+U mixed phase diagram\n",
    "    pd = mpr.materials.thermo.get_phase_diagram_from_chemsys(chemsys=\"Cu-Au\", \n",
    "                                                   thermo_type=ThermoType.GGA_GGA_U)\n",
    "    \n",
    "pd.get_plot(backend='plotly')\n",
    "                                                      "
   ]
  },
  {
   "cell_type": "code",
   "execution_count": 11,
   "metadata": {},
   "outputs": [],
   "source": [
    "from mp_api.client import MPRester\n",
    "from emmet.core.thermo import ThermoType\n",
    "\n",
    "with MPRester(MP_API_KEY) as mpr:\n",
    "    \n",
    "    # -- GGA/GGA+U mixed phase diagram\n",
    "    pd = mpr.materials.thermo.get_phase_diagram_from_chemsys(chemsys=\"Li-Fe-O\", \n",
    "                                                   thermo_type=ThermoType.GGA_GGA_U)\n",
    "                                                      \n",
    "    "
   ]
  },
  {
   "cell_type": "markdown",
   "metadata": {},
   "source": [
    "Since this is a pymatgen `PhaseDiagram` object, you can visualize the results.\n",
    "\n",
    "```{admonition} PhaseDiagram Object\n",
    ":class: info\n",
    "We will discuss `PhaseDiagram` object in the chapter of high-throughput computing.\n",
    "```\n"
   ]
  },
  {
   "cell_type": "code",
   "execution_count": 12,
   "metadata": {},
   "outputs": [
    {
     "data": {
      "application/vnd.plotly.v1+json": {
       "config": {
        "plotlyServerURL": "https://plot.ly"
       },
       "data": [
        {
         "a": [
          40,
          0,
          null,
          0,
          0,
          null,
          2,
          0,
          null,
          4,
          40,
          null,
          0,
          1,
          null,
          0,
          3,
          null,
          2,
          40,
          null,
          1,
          8,
          null,
          0,
          4,
          null,
          1,
          4,
          null,
          1,
          0,
          null,
          4,
          40,
          null,
          2,
          3,
          null,
          2,
          4,
          null,
          4,
          0,
          null,
          0,
          0,
          null,
          8,
          40,
          null,
          4,
          8,
          null,
          4,
          8,
          null,
          0,
          4,
          null,
          0,
          0,
          null,
          1,
          4,
          null
         ],
         "b": [
          8,
          1,
          null,
          4,
          1,
          null,
          0,
          1,
          null,
          0,
          8,
          null,
          4,
          0,
          null,
          1,
          0,
          null,
          0,
          8,
          null,
          0,
          4,
          null,
          4,
          4,
          null,
          0,
          4,
          null,
          0,
          0,
          null,
          4,
          8,
          null,
          0,
          0,
          null,
          0,
          0,
          null,
          4,
          1,
          null,
          4,
          4,
          null,
          4,
          8,
          null,
          0,
          4,
          null,
          4,
          4,
          null,
          4,
          4,
          null,
          4,
          0,
          null,
          0,
          0,
          null
         ],
         "c": [
          32,
          0,
          null,
          4,
          0,
          null,
          1,
          0,
          null,
          4,
          32,
          null,
          6,
          8,
          null,
          0,
          0,
          null,
          1,
          32,
          null,
          8,
          12,
          null,
          4,
          8,
          null,
          8,
          8,
          null,
          8,
          8,
          null,
          8,
          32,
          null,
          1,
          0,
          null,
          1,
          4,
          null,
          8,
          0,
          null,
          4,
          6,
          null,
          12,
          32,
          null,
          4,
          12,
          null,
          8,
          12,
          null,
          6,
          8,
          null,
          6,
          8,
          null,
          8,
          4,
          null
         ],
         "hoverinfo": "none",
         "line": {
          "color": "black",
          "width": 1.5
         },
         "mode": "lines",
         "showlegend": false,
         "type": "scatterternary"
        },
        {
         "a": [
          0,
          1,
          0
         ],
         "b": [
          4,
          0,
          0
         ],
         "c": [
          6,
          8,
          8
         ],
         "fill": "toself",
         "fillcolor": "#2E91E5",
         "hovertemplate": "<extra></extra>",
         "line": {
          "width": 0
         },
         "mode": "lines",
         "name": "Fe<sub>2</sub>O<sub>3</sub>—LiO<sub>8</sub>—O<sub>2</sub>",
         "opacity": 0.15,
         "showlegend": false,
         "type": "scatterternary"
        },
        {
         "a": [
          2,
          4,
          40
         ],
         "b": [
          0,
          0,
          8
         ],
         "c": [
          1,
          4,
          32
         ],
         "fill": "toself",
         "fillcolor": "#E15F99",
         "hovertemplate": "<extra></extra>",
         "line": {
          "width": 0
         },
         "mode": "lines",
         "name": "Li<sub>2</sub>O—Li<sub>2</sub>O<sub>2</sub>—Li<sub>5</sub>FeO<sub>4</sub>",
         "opacity": 0.15,
         "showlegend": false,
         "type": "scatterternary"
        },
        {
         "a": [
          0,
          3,
          2
         ],
         "b": [
          1,
          0,
          0
         ],
         "c": [
          0,
          0,
          1
         ],
         "fill": "toself",
         "fillcolor": "#1CA71C",
         "hovertemplate": "<extra></extra>",
         "line": {
          "width": 0
         },
         "mode": "lines",
         "name": "Fe—Li—Li<sub>2</sub>O",
         "opacity": 0.15,
         "showlegend": false,
         "type": "scatterternary"
        },
        {
         "a": [
          0,
          2,
          40
         ],
         "b": [
          1,
          0,
          8
         ],
         "c": [
          0,
          1,
          32
         ],
         "fill": "toself",
         "fillcolor": "#FB0D0D",
         "hovertemplate": "<extra></extra>",
         "line": {
          "width": 0
         },
         "mode": "lines",
         "name": "Fe—Li<sub>2</sub>O—Li<sub>5</sub>FeO<sub>4</sub>",
         "opacity": 0.15,
         "showlegend": false,
         "type": "scatterternary"
        },
        {
         "a": [
          8,
          4,
          1
         ],
         "b": [
          4,
          0,
          0
         ],
         "c": [
          12,
          4,
          8
         ],
         "fill": "toself",
         "fillcolor": "#DA16FF",
         "hovertemplate": "<extra></extra>",
         "line": {
          "width": 0
         },
         "mode": "lines",
         "name": "Li<sub>2</sub>FeO<sub>3</sub>—Li<sub>2</sub>O<sub>2</sub>—LiO<sub>8</sub>",
         "opacity": 0.15,
         "showlegend": false,
         "type": "scatterternary"
        },
        {
         "a": [
          8,
          4,
          40
         ],
         "b": [
          4,
          0,
          8
         ],
         "c": [
          12,
          4,
          32
         ],
         "fill": "toself",
         "fillcolor": "#222A2A",
         "hovertemplate": "<extra></extra>",
         "line": {
          "width": 0
         },
         "mode": "lines",
         "name": "Li<sub>2</sub>FeO<sub>3</sub>—Li<sub>2</sub>O<sub>2</sub>—Li<sub>5</sub>FeO<sub>4</sub>",
         "opacity": 0.15,
         "showlegend": false,
         "type": "scatterternary"
        },
        {
         "a": [
          0,
          4,
          1
         ],
         "b": [
          4,
          4,
          0
         ],
         "c": [
          6,
          8,
          8
         ],
         "fill": "toself",
         "fillcolor": "#B68100",
         "hovertemplate": "<extra></extra>",
         "line": {
          "width": 0
         },
         "mode": "lines",
         "name": "Fe<sub>2</sub>O<sub>3</sub>—LiFeO<sub>2</sub>—LiO<sub>8</sub>",
         "opacity": 0.15,
         "showlegend": false,
         "type": "scatterternary"
        },
        {
         "a": [
          8,
          4,
          1
         ],
         "b": [
          4,
          4,
          0
         ],
         "c": [
          12,
          8,
          8
         ],
         "fill": "toself",
         "fillcolor": "#750D86",
         "hovertemplate": "<extra></extra>",
         "line": {
          "width": 0
         },
         "mode": "lines",
         "name": "Li<sub>2</sub>FeO<sub>3</sub>—LiFeO<sub>2</sub>—LiO<sub>8</sub>",
         "opacity": 0.15,
         "showlegend": false,
         "type": "scatterternary"
        },
        {
         "a": [
          8,
          40,
          4
         ],
         "b": [
          4,
          8,
          4
         ],
         "c": [
          12,
          32,
          8
         ],
         "fill": "toself",
         "fillcolor": "#EB663B",
         "hovertemplate": "<extra></extra>",
         "line": {
          "width": 0
         },
         "mode": "lines",
         "name": "Li<sub>2</sub>FeO<sub>3</sub>—Li<sub>5</sub>FeO<sub>4</sub>—LiFeO<sub>2</sub>",
         "opacity": 0.15,
         "showlegend": false,
         "type": "scatterternary"
        },
        {
         "a": [
          0,
          0,
          4
         ],
         "b": [
          4,
          4,
          4
         ],
         "c": [
          6,
          4,
          8
         ],
         "fill": "toself",
         "fillcolor": "#511CFB",
         "hovertemplate": "<extra></extra>",
         "line": {
          "width": 0
         },
         "mode": "lines",
         "name": "Fe<sub>2</sub>O<sub>3</sub>—FeO—LiFeO<sub>2</sub>",
         "opacity": 0.15,
         "showlegend": false,
         "type": "scatterternary"
        },
        {
         "a": [
          0,
          0,
          4
         ],
         "b": [
          1,
          4,
          4
         ],
         "c": [
          0,
          4,
          8
         ],
         "fill": "toself",
         "fillcolor": "#00A08B",
         "hovertemplate": "<extra></extra>",
         "line": {
          "width": 0
         },
         "mode": "lines",
         "name": "Fe—FeO—LiFeO<sub>2</sub>",
         "opacity": 0.15,
         "showlegend": false,
         "type": "scatterternary"
        },
        {
         "a": [
          0,
          40,
          4
         ],
         "b": [
          1,
          8,
          4
         ],
         "c": [
          0,
          32,
          8
         ],
         "fill": "toself",
         "fillcolor": "#FB00D1",
         "hovertemplate": "<extra></extra>",
         "line": {
          "width": 0
         },
         "mode": "lines",
         "name": "Fe—Li<sub>5</sub>FeO<sub>4</sub>—LiFeO<sub>2</sub>",
         "opacity": 0.15,
         "showlegend": false,
         "type": "scatterternary"
        },
        {
         "a": [
          40,
          0,
          0,
          2,
          4,
          0,
          1,
          3,
          8,
          4,
          0
         ],
         "b": [
          8,
          1,
          4,
          0,
          0,
          4,
          0,
          0,
          4,
          4,
          0
         ],
         "c": [
          32,
          0,
          4,
          1,
          4,
          6,
          8,
          0,
          12,
          8,
          8
         ],
         "cliponaxis": false,
         "hoverinfo": "text",
         "hoverlabel": {
          "font": {
           "size": 14
          }
         },
         "hovertext": [
          "Li<sub>5</sub>FeO<sub>4</sub> (mp-19511-GGA+U) <br>  Formation energy: -2.042 eV/atom <br>  (Stable)<br><br> Li: 0.5<br> Fe: 0.1<br> O: 0.4",
          "Fe (mp-13-GGA) <br>  Formation energy: 0.0 eV/atom <br>  (Stable)<br><br> Li: 0.0<br> Fe: 1.0<br> O: 0.0",
          "FeO (mp-1274279-GGA+U) <br>  Formation energy: -1.482 eV/atom <br>  (Stable)<br><br> Li: 0.0<br> Fe: 0.5<br> O: 0.5",
          "Li<sub>2</sub>O (mp-1960-GGA) <br>  Formation energy: -2.062 eV/atom <br>  (Stable)<br><br> Li: 0.666667<br> Fe: 0.0<br> O: 0.333333",
          "Li<sub>2</sub>O<sub>2</sub> (mp-841-GGA) <br>  Formation energy: -1.65 eV/atom <br>  (Stable)<br><br> Li: 0.5<br> Fe: 0.0<br> O: 0.5",
          "Fe<sub>2</sub>O<sub>3</sub> (mp-19770-GGA+U) <br>  Formation energy: -1.707 eV/atom <br>  (Stable)<br><br> Li: 0.0<br> Fe: 0.4<br> O: 0.6",
          "LiO<sub>8</sub> (mp-1235059-GGA) <br>  Formation energy: -0.427 eV/atom <br>  (Stable)<br><br> Li: 0.111111<br> Fe: 0.0<br> O: 0.888889",
          "Li (mp-1018134-GGA) <br>  Formation energy: 0.0 eV/atom <br>  (Stable)<br><br> Li: 1.0<br> Fe: 0.0<br> O: 0.0",
          "Li<sub>2</sub>FeO<sub>3</sub> (mp-774155-GGA+U) <br>  Formation energy: -1.878 eV/atom <br>  (Stable)<br><br> Li: 0.333333<br> Fe: 0.166667<br> O: 0.5",
          "LiFeO<sub>2</sub> (mp-757614-GGA+U) <br>  Formation energy: -1.945 eV/atom <br>  (Stable)<br><br> Li: 0.25<br> Fe: 0.25<br> O: 0.5",
          "O<sub>2</sub> (mp-12957-GGA) <br>  Formation energy: 0.0 eV/atom <br>  (Stable)<br><br> Li: 0.0<br> Fe: 0.0<br> O: 1.0"
         ],
         "marker": {
          "color": "green",
          "line": {
           "color": "black",
           "width": 2
          },
          "size": 15,
          "symbol": "circle"
         },
         "mode": "markers",
         "name": "Stable",
         "showlegend": true,
         "type": "scatterternary"
        },
        {
         "a": [],
         "b": [],
         "c": [],
         "cliponaxis": false,
         "hoverinfo": "text",
         "hoverlabel": {
          "font": {
           "size": 14
          }
         },
         "hovertext": [],
         "marker": {
          "color": [],
          "colorbar": {
           "len": 0.5,
           "thickness": 0.02,
           "thicknessmode": "fraction",
           "title": {
            "text": "Energy Above Hull<br>(eV/atom)"
           },
           "x": 0,
           "xpad": 0,
           "y": 1,
           "yanchor": "top",
           "ypad": 0
          },
          "colorscale": [
           [
            0,
            "#fff5e3"
           ],
           [
            0.5,
            "#f24324"
           ],
           [
            1,
            "#c40000"
           ]
          ],
          "line": {
           "color": "black",
           "width": 1
          },
          "opacity": 0.8,
          "size": 7,
          "symbol": "diamond"
         },
         "mode": "markers",
         "name": "Above Hull",
         "showlegend": true,
         "type": "scatterternary"
        }
       ],
       "layout": {
        "autosize": true,
        "coloraxis": {
         "colorbar": {
          "x": 1,
          "y": 0.05,
          "yanchor": "top"
         }
        },
        "margin": {
         "b": 40,
         "l": 20,
         "r": 20,
         "t": 40
        },
        "paper_bgcolor": "rgba(0,0,0,0)",
        "plot_bgcolor": "rgba(0,0,0,0)",
        "showlegend": true,
        "template": {
         "data": {
          "bar": [
           {
            "error_x": {
             "color": "#2a3f5f"
            },
            "error_y": {
             "color": "#2a3f5f"
            },
            "marker": {
             "line": {
              "color": "#E5ECF6",
              "width": 0.5
             },
             "pattern": {
              "fillmode": "overlay",
              "size": 10,
              "solidity": 0.2
             }
            },
            "type": "bar"
           }
          ],
          "barpolar": [
           {
            "marker": {
             "line": {
              "color": "#E5ECF6",
              "width": 0.5
             },
             "pattern": {
              "fillmode": "overlay",
              "size": 10,
              "solidity": 0.2
             }
            },
            "type": "barpolar"
           }
          ],
          "carpet": [
           {
            "aaxis": {
             "endlinecolor": "#2a3f5f",
             "gridcolor": "white",
             "linecolor": "white",
             "minorgridcolor": "white",
             "startlinecolor": "#2a3f5f"
            },
            "baxis": {
             "endlinecolor": "#2a3f5f",
             "gridcolor": "white",
             "linecolor": "white",
             "minorgridcolor": "white",
             "startlinecolor": "#2a3f5f"
            },
            "type": "carpet"
           }
          ],
          "choropleth": [
           {
            "colorbar": {
             "outlinewidth": 0,
             "ticks": ""
            },
            "type": "choropleth"
           }
          ],
          "contour": [
           {
            "colorbar": {
             "outlinewidth": 0,
             "ticks": ""
            },
            "colorscale": [
             [
              0,
              "#0d0887"
             ],
             [
              0.1111111111111111,
              "#46039f"
             ],
             [
              0.2222222222222222,
              "#7201a8"
             ],
             [
              0.3333333333333333,
              "#9c179e"
             ],
             [
              0.4444444444444444,
              "#bd3786"
             ],
             [
              0.5555555555555556,
              "#d8576b"
             ],
             [
              0.6666666666666666,
              "#ed7953"
             ],
             [
              0.7777777777777778,
              "#fb9f3a"
             ],
             [
              0.8888888888888888,
              "#fdca26"
             ],
             [
              1,
              "#f0f921"
             ]
            ],
            "type": "contour"
           }
          ],
          "contourcarpet": [
           {
            "colorbar": {
             "outlinewidth": 0,
             "ticks": ""
            },
            "type": "contourcarpet"
           }
          ],
          "heatmap": [
           {
            "colorbar": {
             "outlinewidth": 0,
             "ticks": ""
            },
            "colorscale": [
             [
              0,
              "#0d0887"
             ],
             [
              0.1111111111111111,
              "#46039f"
             ],
             [
              0.2222222222222222,
              "#7201a8"
             ],
             [
              0.3333333333333333,
              "#9c179e"
             ],
             [
              0.4444444444444444,
              "#bd3786"
             ],
             [
              0.5555555555555556,
              "#d8576b"
             ],
             [
              0.6666666666666666,
              "#ed7953"
             ],
             [
              0.7777777777777778,
              "#fb9f3a"
             ],
             [
              0.8888888888888888,
              "#fdca26"
             ],
             [
              1,
              "#f0f921"
             ]
            ],
            "type": "heatmap"
           }
          ],
          "heatmapgl": [
           {
            "colorbar": {
             "outlinewidth": 0,
             "ticks": ""
            },
            "colorscale": [
             [
              0,
              "#0d0887"
             ],
             [
              0.1111111111111111,
              "#46039f"
             ],
             [
              0.2222222222222222,
              "#7201a8"
             ],
             [
              0.3333333333333333,
              "#9c179e"
             ],
             [
              0.4444444444444444,
              "#bd3786"
             ],
             [
              0.5555555555555556,
              "#d8576b"
             ],
             [
              0.6666666666666666,
              "#ed7953"
             ],
             [
              0.7777777777777778,
              "#fb9f3a"
             ],
             [
              0.8888888888888888,
              "#fdca26"
             ],
             [
              1,
              "#f0f921"
             ]
            ],
            "type": "heatmapgl"
           }
          ],
          "histogram": [
           {
            "marker": {
             "pattern": {
              "fillmode": "overlay",
              "size": 10,
              "solidity": 0.2
             }
            },
            "type": "histogram"
           }
          ],
          "histogram2d": [
           {
            "colorbar": {
             "outlinewidth": 0,
             "ticks": ""
            },
            "colorscale": [
             [
              0,
              "#0d0887"
             ],
             [
              0.1111111111111111,
              "#46039f"
             ],
             [
              0.2222222222222222,
              "#7201a8"
             ],
             [
              0.3333333333333333,
              "#9c179e"
             ],
             [
              0.4444444444444444,
              "#bd3786"
             ],
             [
              0.5555555555555556,
              "#d8576b"
             ],
             [
              0.6666666666666666,
              "#ed7953"
             ],
             [
              0.7777777777777778,
              "#fb9f3a"
             ],
             [
              0.8888888888888888,
              "#fdca26"
             ],
             [
              1,
              "#f0f921"
             ]
            ],
            "type": "histogram2d"
           }
          ],
          "histogram2dcontour": [
           {
            "colorbar": {
             "outlinewidth": 0,
             "ticks": ""
            },
            "colorscale": [
             [
              0,
              "#0d0887"
             ],
             [
              0.1111111111111111,
              "#46039f"
             ],
             [
              0.2222222222222222,
              "#7201a8"
             ],
             [
              0.3333333333333333,
              "#9c179e"
             ],
             [
              0.4444444444444444,
              "#bd3786"
             ],
             [
              0.5555555555555556,
              "#d8576b"
             ],
             [
              0.6666666666666666,
              "#ed7953"
             ],
             [
              0.7777777777777778,
              "#fb9f3a"
             ],
             [
              0.8888888888888888,
              "#fdca26"
             ],
             [
              1,
              "#f0f921"
             ]
            ],
            "type": "histogram2dcontour"
           }
          ],
          "mesh3d": [
           {
            "colorbar": {
             "outlinewidth": 0,
             "ticks": ""
            },
            "type": "mesh3d"
           }
          ],
          "parcoords": [
           {
            "line": {
             "colorbar": {
              "outlinewidth": 0,
              "ticks": ""
             }
            },
            "type": "parcoords"
           }
          ],
          "pie": [
           {
            "automargin": true,
            "type": "pie"
           }
          ],
          "scatter": [
           {
            "fillpattern": {
             "fillmode": "overlay",
             "size": 10,
             "solidity": 0.2
            },
            "type": "scatter"
           }
          ],
          "scatter3d": [
           {
            "line": {
             "colorbar": {
              "outlinewidth": 0,
              "ticks": ""
             }
            },
            "marker": {
             "colorbar": {
              "outlinewidth": 0,
              "ticks": ""
             }
            },
            "type": "scatter3d"
           }
          ],
          "scattercarpet": [
           {
            "marker": {
             "colorbar": {
              "outlinewidth": 0,
              "ticks": ""
             }
            },
            "type": "scattercarpet"
           }
          ],
          "scattergeo": [
           {
            "marker": {
             "colorbar": {
              "outlinewidth": 0,
              "ticks": ""
             }
            },
            "type": "scattergeo"
           }
          ],
          "scattergl": [
           {
            "marker": {
             "colorbar": {
              "outlinewidth": 0,
              "ticks": ""
             }
            },
            "type": "scattergl"
           }
          ],
          "scattermapbox": [
           {
            "marker": {
             "colorbar": {
              "outlinewidth": 0,
              "ticks": ""
             }
            },
            "type": "scattermapbox"
           }
          ],
          "scatterpolar": [
           {
            "marker": {
             "colorbar": {
              "outlinewidth": 0,
              "ticks": ""
             }
            },
            "type": "scatterpolar"
           }
          ],
          "scatterpolargl": [
           {
            "marker": {
             "colorbar": {
              "outlinewidth": 0,
              "ticks": ""
             }
            },
            "type": "scatterpolargl"
           }
          ],
          "scatterternary": [
           {
            "marker": {
             "colorbar": {
              "outlinewidth": 0,
              "ticks": ""
             }
            },
            "type": "scatterternary"
           }
          ],
          "surface": [
           {
            "colorbar": {
             "outlinewidth": 0,
             "ticks": ""
            },
            "colorscale": [
             [
              0,
              "#0d0887"
             ],
             [
              0.1111111111111111,
              "#46039f"
             ],
             [
              0.2222222222222222,
              "#7201a8"
             ],
             [
              0.3333333333333333,
              "#9c179e"
             ],
             [
              0.4444444444444444,
              "#bd3786"
             ],
             [
              0.5555555555555556,
              "#d8576b"
             ],
             [
              0.6666666666666666,
              "#ed7953"
             ],
             [
              0.7777777777777778,
              "#fb9f3a"
             ],
             [
              0.8888888888888888,
              "#fdca26"
             ],
             [
              1,
              "#f0f921"
             ]
            ],
            "type": "surface"
           }
          ],
          "table": [
           {
            "cells": {
             "fill": {
              "color": "#EBF0F8"
             },
             "line": {
              "color": "white"
             }
            },
            "header": {
             "fill": {
              "color": "#C8D4E3"
             },
             "line": {
              "color": "white"
             }
            },
            "type": "table"
           }
          ]
         },
         "layout": {
          "annotationdefaults": {
           "arrowcolor": "#2a3f5f",
           "arrowhead": 0,
           "arrowwidth": 1
          },
          "autotypenumbers": "strict",
          "coloraxis": {
           "colorbar": {
            "outlinewidth": 0,
            "ticks": ""
           }
          },
          "colorscale": {
           "diverging": [
            [
             0,
             "#8e0152"
            ],
            [
             0.1,
             "#c51b7d"
            ],
            [
             0.2,
             "#de77ae"
            ],
            [
             0.3,
             "#f1b6da"
            ],
            [
             0.4,
             "#fde0ef"
            ],
            [
             0.5,
             "#f7f7f7"
            ],
            [
             0.6,
             "#e6f5d0"
            ],
            [
             0.7,
             "#b8e186"
            ],
            [
             0.8,
             "#7fbc41"
            ],
            [
             0.9,
             "#4d9221"
            ],
            [
             1,
             "#276419"
            ]
           ],
           "sequential": [
            [
             0,
             "#0d0887"
            ],
            [
             0.1111111111111111,
             "#46039f"
            ],
            [
             0.2222222222222222,
             "#7201a8"
            ],
            [
             0.3333333333333333,
             "#9c179e"
            ],
            [
             0.4444444444444444,
             "#bd3786"
            ],
            [
             0.5555555555555556,
             "#d8576b"
            ],
            [
             0.6666666666666666,
             "#ed7953"
            ],
            [
             0.7777777777777778,
             "#fb9f3a"
            ],
            [
             0.8888888888888888,
             "#fdca26"
            ],
            [
             1,
             "#f0f921"
            ]
           ],
           "sequentialminus": [
            [
             0,
             "#0d0887"
            ],
            [
             0.1111111111111111,
             "#46039f"
            ],
            [
             0.2222222222222222,
             "#7201a8"
            ],
            [
             0.3333333333333333,
             "#9c179e"
            ],
            [
             0.4444444444444444,
             "#bd3786"
            ],
            [
             0.5555555555555556,
             "#d8576b"
            ],
            [
             0.6666666666666666,
             "#ed7953"
            ],
            [
             0.7777777777777778,
             "#fb9f3a"
            ],
            [
             0.8888888888888888,
             "#fdca26"
            ],
            [
             1,
             "#f0f921"
            ]
           ]
          },
          "colorway": [
           "#636efa",
           "#EF553B",
           "#00cc96",
           "#ab63fa",
           "#FFA15A",
           "#19d3f3",
           "#FF6692",
           "#B6E880",
           "#FF97FF",
           "#FECB52"
          ],
          "font": {
           "color": "#2a3f5f"
          },
          "geo": {
           "bgcolor": "white",
           "lakecolor": "white",
           "landcolor": "#E5ECF6",
           "showlakes": true,
           "showland": true,
           "subunitcolor": "white"
          },
          "hoverlabel": {
           "align": "left"
          },
          "hovermode": "closest",
          "mapbox": {
           "style": "light"
          },
          "paper_bgcolor": "white",
          "plot_bgcolor": "#E5ECF6",
          "polar": {
           "angularaxis": {
            "gridcolor": "white",
            "linecolor": "white",
            "ticks": ""
           },
           "bgcolor": "#E5ECF6",
           "radialaxis": {
            "gridcolor": "white",
            "linecolor": "white",
            "ticks": ""
           }
          },
          "scene": {
           "xaxis": {
            "backgroundcolor": "#E5ECF6",
            "gridcolor": "white",
            "gridwidth": 2,
            "linecolor": "white",
            "showbackground": true,
            "ticks": "",
            "zerolinecolor": "white"
           },
           "yaxis": {
            "backgroundcolor": "#E5ECF6",
            "gridcolor": "white",
            "gridwidth": 2,
            "linecolor": "white",
            "showbackground": true,
            "ticks": "",
            "zerolinecolor": "white"
           },
           "zaxis": {
            "backgroundcolor": "#E5ECF6",
            "gridcolor": "white",
            "gridwidth": 2,
            "linecolor": "white",
            "showbackground": true,
            "ticks": "",
            "zerolinecolor": "white"
           }
          },
          "shapedefaults": {
           "line": {
            "color": "#2a3f5f"
           }
          },
          "ternary": {
           "aaxis": {
            "gridcolor": "white",
            "linecolor": "white",
            "ticks": ""
           },
           "baxis": {
            "gridcolor": "white",
            "linecolor": "white",
            "ticks": ""
           },
           "bgcolor": "#E5ECF6",
           "caxis": {
            "gridcolor": "white",
            "linecolor": "white",
            "ticks": ""
           }
          },
          "title": {
           "x": 0.05
          },
          "xaxis": {
           "automargin": true,
           "gridcolor": "white",
           "linecolor": "white",
           "ticks": "",
           "title": {
            "standoff": 15
           },
           "zerolinecolor": "white",
           "zerolinewidth": 2
          },
          "yaxis": {
           "automargin": true,
           "gridcolor": "white",
           "linecolor": "white",
           "ticks": "",
           "title": {
            "standoff": 15
           },
           "zerolinecolor": "white",
           "zerolinewidth": 2
          }
         }
        },
        "ternary": {
         "aaxis": {
          "layer": "below traces",
          "showgrid": true,
          "showticklabels": true,
          "tickfont": {
           "color": "rgba(0,0,0,0)",
           "size": 7
          },
          "title": {
           "font": {
            "size": 24
           },
           "text": "Li"
          }
         },
         "baxis": {
          "layer": "below traces",
          "min": 0,
          "showgrid": true,
          "showticklabels": true,
          "tickfont": {
           "color": "rgba(0,0,0,0)",
           "size": 7
          },
          "title": {
           "font": {
            "size": 24
           },
           "text": "Fe"
          }
         },
         "caxis": {
          "layer": "below traces",
          "min": 0,
          "showgrid": true,
          "showticklabels": true,
          "tickfont": {
           "color": "rgba(0,0,0,0)",
           "size": 7
          },
          "title": {
           "font": {
            "size": 24
           },
           "text": "O"
          }
         },
         "sum": 1
        }
       }
      }
     },
     "metadata": {},
     "output_type": "display_data"
    }
   ],
   "source": [
    "pd.get_plot(backend='plotly', show_unstable=False)\n"
   ]
  },
  {
   "cell_type": "code",
   "execution_count": null,
   "metadata": {},
   "outputs": [],
   "source": []
  }
 ],
 "metadata": {
  "kernelspec": {
   "display_name": "mi",
   "language": "python",
   "name": "python3"
  },
  "language_info": {
   "codemirror_mode": {
    "name": "ipython",
    "version": 3
   },
   "file_extension": ".py",
   "mimetype": "text/x-python",
   "name": "python",
   "nbconvert_exporter": "python",
   "pygments_lexer": "ipython3",
   "version": "3.13.1"
  }
 },
 "nbformat": 4,
 "nbformat_minor": 2
}
